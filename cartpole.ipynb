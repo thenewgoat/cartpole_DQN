{
 "cells": [
  {
   "cell_type": "markdown",
   "metadata": {
    "colab_type": "text",
    "id": "view-in-github"
   },
   "source": [
    "<a href=\"https://colab.research.google.com/github/yue-zhongqi/cartpole_colab/blob/main/cartpole.ipynb\" target=\"_parent\"><img src=\"https://colab.research.google.com/assets/colab-badge.svg\" alt=\"Open In Colab\"/></a>"
   ]
  },
  {
   "cell_type": "markdown",
   "metadata": {
    "id": "ZauhjPSfX7pI"
   },
   "source": [
    "# SC3000 Assignment: Balancing a Pole on a Cart"
   ]
  },
  {
   "cell_type": "markdown",
   "metadata": {
    "id": "UBiYOoesYMvr"
   },
   "source": [
    "## Installing dependencies:\n",
    "\n",
    "For this assignment, I used gymnasium instead of gym due to dependency conflicts. If any issues occur, consider uninstalling gym and pip install gymnasium instead. All commands are tested in a fresh conda environment so there should not be any errors."
   ]
  },
  {
   "cell_type": "code",
   "execution_count": 1,
   "metadata": {},
   "outputs": [
    {
     "name": "stdout",
     "output_type": "stream",
     "text": [
      "3.12.9 | packaged by Anaconda, Inc. | (main, Feb  6 2025, 18:49:16) [MSC v.1929 64 bit (AMD64)]\n"
     ]
    }
   ],
   "source": [
    "import sys\n",
    "print(sys.version)"
   ]
  },
  {
   "cell_type": "code",
   "execution_count": 2,
   "metadata": {},
   "outputs": [
    {
     "name": "stdout",
     "output_type": "stream",
     "text": [
      " -V:3.13 *        Python 3.13 (64-bit)\n",
      " -V:3.12          Python 3.12 (64-bit)\n",
      " -V:3.11          Python 3.11 (64-bit)\n",
      " -V:3.8           Python 3.8 (64-bit)\n",
      " -V:3.7           Python 3.7 (64-bit)\n"
     ]
    }
   ],
   "source": [
    "!py --list"
   ]
  },
  {
   "cell_type": "code",
   "execution_count": 3,
   "metadata": {
    "colab": {
     "base_uri": "https://localhost:8080/"
    },
    "id": "PbgnVwZmX5uW",
    "outputId": "7dcfe5ac-b419-4d5d-8305-1ba3c1240df3"
   },
   "outputs": [
    {
     "name": "stdout",
     "output_type": "stream",
     "text": [
      "Requirement already satisfied: gymnasium in c:\\users\\zhang\\anaconda3\\envs\\py312env\\lib\\site-packages (1.1.1)\n",
      "Requirement already satisfied: pyvirtualdisplay in c:\\users\\zhang\\anaconda3\\envs\\py312env\\lib\\site-packages (3.0)\n",
      "Requirement already satisfied: numpy>=1.21.0 in c:\\users\\zhang\\anaconda3\\envs\\py312env\\lib\\site-packages (from gymnasium) (2.2.3)\n",
      "Requirement already satisfied: cloudpickle>=1.2.0 in c:\\users\\zhang\\anaconda3\\envs\\py312env\\lib\\site-packages (from gymnasium) (3.1.1)\n",
      "Requirement already satisfied: typing-extensions>=4.3.0 in c:\\users\\zhang\\anaconda3\\envs\\py312env\\lib\\site-packages (from gymnasium) (4.12.2)\n",
      "Requirement already satisfied: farama-notifications>=0.0.1 in c:\\users\\zhang\\anaconda3\\envs\\py312env\\lib\\site-packages (from gymnasium) (0.0.4)\n",
      "Requirement already satisfied: gymnasium[classic_control] in c:\\users\\zhang\\anaconda3\\envs\\py312env\\lib\\site-packages (1.1.1)\n",
      "Requirement already satisfied: numpy>=1.21.0 in c:\\users\\zhang\\anaconda3\\envs\\py312env\\lib\\site-packages (from gymnasium[classic_control]) (2.2.3)\n",
      "Requirement already satisfied: cloudpickle>=1.2.0 in c:\\users\\zhang\\anaconda3\\envs\\py312env\\lib\\site-packages (from gymnasium[classic_control]) (3.1.1)\n",
      "Requirement already satisfied: typing-extensions>=4.3.0 in c:\\users\\zhang\\anaconda3\\envs\\py312env\\lib\\site-packages (from gymnasium[classic_control]) (4.12.2)\n",
      "Requirement already satisfied: farama-notifications>=0.0.1 in c:\\users\\zhang\\anaconda3\\envs\\py312env\\lib\\site-packages (from gymnasium[classic_control]) (0.0.4)\n",
      "Requirement already satisfied: pygame>=2.1.3 in c:\\users\\zhang\\anaconda3\\envs\\py312env\\lib\\site-packages (from gymnasium[classic_control]) (2.6.1)\n",
      "Requirement already satisfied: setuptools in c:\\users\\zhang\\anaconda3\\envs\\py312env\\lib\\site-packages (75.9.1)\n",
      "Requirement already satisfied: ez_setup in c:\\users\\zhang\\anaconda3\\envs\\py312env\\lib\\site-packages (0.9)\n",
      "Requirement already satisfied: moviepy in c:\\users\\zhang\\anaconda3\\envs\\py312env\\lib\\site-packages (2.1.2)\n",
      "Requirement already satisfied: decorator<6.0,>=4.0.2 in c:\\users\\zhang\\anaconda3\\envs\\py312env\\lib\\site-packages (from moviepy) (5.1.1)\n",
      "Requirement already satisfied: imageio<3.0,>=2.5 in c:\\users\\zhang\\anaconda3\\envs\\py312env\\lib\\site-packages (from moviepy) (2.37.0)\n",
      "Requirement already satisfied: imageio_ffmpeg>=0.2.0 in c:\\users\\zhang\\anaconda3\\envs\\py312env\\lib\\site-packages (from moviepy) (0.6.0)\n",
      "Requirement already satisfied: numpy>=1.25.0 in c:\\users\\zhang\\anaconda3\\envs\\py312env\\lib\\site-packages (from moviepy) (2.2.3)\n",
      "Requirement already satisfied: proglog<=1.0.0 in c:\\users\\zhang\\anaconda3\\envs\\py312env\\lib\\site-packages (from moviepy) (0.1.10)\n",
      "Requirement already satisfied: python-dotenv>=0.10 in c:\\users\\zhang\\anaconda3\\envs\\py312env\\lib\\site-packages (from moviepy) (1.0.1)\n",
      "Requirement already satisfied: pillow<11.0,>=9.2.0 in c:\\users\\zhang\\anaconda3\\envs\\py312env\\lib\\site-packages (from moviepy) (10.4.0)\n",
      "Requirement already satisfied: tqdm in c:\\users\\zhang\\anaconda3\\envs\\py312env\\lib\\site-packages (from proglog<=1.0.0->moviepy) (4.67.1)\n",
      "Requirement already satisfied: colorama in c:\\users\\zhang\\anaconda3\\envs\\py312env\\lib\\site-packages (from tqdm->proglog<=1.0.0->moviepy) (0.4.6)\n",
      "Requirement already satisfied: optuna in c:\\users\\zhang\\anaconda3\\envs\\py312env\\lib\\site-packages (4.2.1)\n",
      "Requirement already satisfied: alembic>=1.5.0 in c:\\users\\zhang\\anaconda3\\envs\\py312env\\lib\\site-packages (from optuna) (1.15.1)\n",
      "Requirement already satisfied: colorlog in c:\\users\\zhang\\anaconda3\\envs\\py312env\\lib\\site-packages (from optuna) (6.9.0)\n",
      "Requirement already satisfied: numpy in c:\\users\\zhang\\anaconda3\\envs\\py312env\\lib\\site-packages (from optuna) (2.2.3)\n",
      "Requirement already satisfied: packaging>=20.0 in c:\\users\\zhang\\anaconda3\\envs\\py312env\\lib\\site-packages (from optuna) (24.2)\n",
      "Requirement already satisfied: sqlalchemy>=1.4.2 in c:\\users\\zhang\\anaconda3\\envs\\py312env\\lib\\site-packages (from optuna) (2.0.38)\n",
      "Requirement already satisfied: tqdm in c:\\users\\zhang\\anaconda3\\envs\\py312env\\lib\\site-packages (from optuna) (4.67.1)\n",
      "Requirement already satisfied: PyYAML in c:\\users\\zhang\\anaconda3\\envs\\py312env\\lib\\site-packages (from optuna) (6.0.2)\n",
      "Requirement already satisfied: Mako in c:\\users\\zhang\\anaconda3\\envs\\py312env\\lib\\site-packages (from alembic>=1.5.0->optuna) (1.3.9)\n",
      "Requirement already satisfied: typing-extensions>=4.12 in c:\\users\\zhang\\anaconda3\\envs\\py312env\\lib\\site-packages (from alembic>=1.5.0->optuna) (4.12.2)\n",
      "Requirement already satisfied: greenlet!=0.4.17 in c:\\users\\zhang\\anaconda3\\envs\\py312env\\lib\\site-packages (from sqlalchemy>=1.4.2->optuna) (3.1.1)\n",
      "Requirement already satisfied: colorama in c:\\users\\zhang\\anaconda3\\envs\\py312env\\lib\\site-packages (from colorlog->optuna) (0.4.6)\n",
      "Requirement already satisfied: MarkupSafe>=0.9.2 in c:\\users\\zhang\\anaconda3\\envs\\py312env\\lib\\site-packages (from Mako->alembic>=1.5.0->optuna) (3.0.2)\n",
      "Requirement already satisfied: matplotlib in c:\\users\\zhang\\anaconda3\\envs\\py312env\\lib\\site-packages (3.10.1)\n",
      "Requirement already satisfied: contourpy>=1.0.1 in c:\\users\\zhang\\anaconda3\\envs\\py312env\\lib\\site-packages (from matplotlib) (1.3.1)\n",
      "Requirement already satisfied: cycler>=0.10 in c:\\users\\zhang\\anaconda3\\envs\\py312env\\lib\\site-packages (from matplotlib) (0.12.1)\n",
      "Requirement already satisfied: fonttools>=4.22.0 in c:\\users\\zhang\\anaconda3\\envs\\py312env\\lib\\site-packages (from matplotlib) (4.56.0)\n",
      "Requirement already satisfied: kiwisolver>=1.3.1 in c:\\users\\zhang\\anaconda3\\envs\\py312env\\lib\\site-packages (from matplotlib) (1.4.8)\n",
      "Requirement already satisfied: numpy>=1.23 in c:\\users\\zhang\\anaconda3\\envs\\py312env\\lib\\site-packages (from matplotlib) (2.2.3)\n",
      "Requirement already satisfied: packaging>=20.0 in c:\\users\\zhang\\anaconda3\\envs\\py312env\\lib\\site-packages (from matplotlib) (24.2)\n",
      "Requirement already satisfied: pillow>=8 in c:\\users\\zhang\\anaconda3\\envs\\py312env\\lib\\site-packages (from matplotlib) (10.4.0)\n",
      "Requirement already satisfied: pyparsing>=2.3.1 in c:\\users\\zhang\\anaconda3\\envs\\py312env\\lib\\site-packages (from matplotlib) (3.2.1)\n",
      "Requirement already satisfied: python-dateutil>=2.7 in c:\\users\\zhang\\anaconda3\\envs\\py312env\\lib\\site-packages (from matplotlib) (2.9.0.post0)\n",
      "Requirement already satisfied: six>=1.5 in c:\\users\\zhang\\anaconda3\\envs\\py312env\\lib\\site-packages (from python-dateutil>=2.7->matplotlib) (1.16.0)\n",
      "Requirement already satisfied: torch in c:\\users\\zhang\\anaconda3\\envs\\py312env\\lib\\site-packages (2.6.0)\n",
      "Requirement already satisfied: filelock in c:\\users\\zhang\\anaconda3\\envs\\py312env\\lib\\site-packages (from torch) (3.17.0)\n",
      "Requirement already satisfied: typing-extensions>=4.10.0 in c:\\users\\zhang\\anaconda3\\envs\\py312env\\lib\\site-packages (from torch) (4.12.2)\n",
      "Requirement already satisfied: networkx in c:\\users\\zhang\\anaconda3\\envs\\py312env\\lib\\site-packages (from torch) (3.4.2)\n",
      "Requirement already satisfied: jinja2 in c:\\users\\zhang\\anaconda3\\envs\\py312env\\lib\\site-packages (from torch) (3.1.5)\n",
      "Requirement already satisfied: fsspec in c:\\users\\zhang\\anaconda3\\envs\\py312env\\lib\\site-packages (from torch) (2025.3.0)\n",
      "Requirement already satisfied: setuptools in c:\\users\\zhang\\anaconda3\\envs\\py312env\\lib\\site-packages (from torch) (75.9.1)\n",
      "Requirement already satisfied: sympy==1.13.1 in c:\\users\\zhang\\anaconda3\\envs\\py312env\\lib\\site-packages (from torch) (1.13.1)\n",
      "Requirement already satisfied: mpmath<1.4,>=1.1.0 in c:\\users\\zhang\\anaconda3\\envs\\py312env\\lib\\site-packages (from sympy==1.13.1->torch) (1.3.0)\n",
      "Requirement already satisfied: MarkupSafe>=2.0 in c:\\users\\zhang\\anaconda3\\envs\\py312env\\lib\\site-packages (from jinja2->torch) (3.0.2)\n",
      "Requirement already satisfied: tqdm in c:\\users\\zhang\\anaconda3\\envs\\py312env\\lib\\site-packages (4.67.1)\n",
      "Requirement already satisfied: colorama in c:\\users\\zhang\\anaconda3\\envs\\py312env\\lib\\site-packages (from tqdm) (0.4.6)\n"
     ]
    }
   ],
   "source": [
    "!\"{sys.executable}\" -m pip install gymnasium pyvirtualdisplay\n",
    "!\"{sys.executable}\" -m pip install gymnasium[classic_control]\n",
    "!\"{sys.executable}\" -m pip install --upgrade setuptools\n",
    "!\"{sys.executable}\" -m pip install ez_setup\n",
    "!\"{sys.executable}\" -m pip install moviepy\n",
    "!\"{sys.executable}\" -m pip install optuna\n",
    "!\"{sys.executable}\" -m pip install matplotlib\n",
    "!\"{sys.executable}\" -m pip install torch\n",
    "!\"{sys.executable}\" -m pip install tqdm"
   ]
  },
  {
   "cell_type": "markdown",
   "metadata": {
    "id": "RwKbYeTgbaTA"
   },
   "source": [
    "## Importing dependencies and define helper functions"
   ]
  },
  {
   "cell_type": "code",
   "execution_count": 4,
   "metadata": {
    "id": "j6KpgCLGYWmj"
   },
   "outputs": [],
   "source": [
    "import gymnasium as gym\n",
    "from gymnasium import logger as gymlogger\n",
    "from gymnasium.wrappers import RecordVideo\n",
    "import logging\n",
    "logging.getLogger(\"gymnasium\").setLevel(logging.ERROR)\n",
    "import numpy as np\n",
    "import random\n",
    "import matplotlib\n",
    "import matplotlib.pyplot as plt\n",
    "%matplotlib inline\n",
    "import math\n",
    "import glob\n",
    "import io\n",
    "import base64\n",
    "from IPython.display import HTML\n",
    "from IPython import display as ipythondisplay\n",
    "import os\n",
    "import torch\n",
    "import torch.nn as nn\n",
    "import torch.optim as optim\n",
    "import torch.nn.functional as F\n",
    "import random\n",
    "import numpy as np\n",
    "from collections import deque\n",
    "import copy\n",
    "from tqdm import tqdm\n",
    "\n",
    "\n",
    "# Function to display the recorded video in the notebook.\n",
    "def show_video(video_folder=\"./video\"):\n",
    "    video_files = [os.path.join(video_folder, f) for f in os.listdir(video_folder) if f.endswith(\".mp4\")]\n",
    "    if not video_files:\n",
    "        return \"No video found.\"\n",
    "    video_file = sorted(video_files)[-1]\n",
    "    video = open(video_file, \"rb\").read()\n",
    "    video_encoded = base64.b64encode(video).decode(\"ascii\")\n",
    "    return HTML(f\"\"\"\n",
    "    <video width=\"640\" height=\"480\" controls>\n",
    "        <source src=\"data:video/mp4;base64,{video_encoded}\" type=\"video/mp4\">\n",
    "    </video>\n",
    "    \"\"\")\n"
   ]
  },
  {
   "cell_type": "markdown",
   "metadata": {
    "id": "2oIzK9SzhlWN"
   },
   "source": [
    "## Task 1: Development of an RL agent"
   ]
  },
  {
   "cell_type": "markdown",
   "metadata": {},
   "source": [
    "For Task 1, we will be building a Deep Q Network (DQN).\n",
    "\n",
    "The Cartpole environment provides a state from a continuous state space, but takes in discrete actions (left or right). As such, building a Q table may not be suitable as it will be unable to cover all possible values that the agent may receive. Hence, a Q Network will be built to allow the agent to handle state values not seen before and generalize across the continuous state space.\n",
    "\n",
    "As there 4 observed values per state and 2 possible actions, the Q Network will take in 4 inputs and generate 2 outputs. This will allow the network to output its estimated Q-value for each action via each output node. Inside the network, 2 hidden layers with 24 nodes each will use RELU as the activation function before passing on their values to the next node.\n",
    "\n",
    "To encourage exploration, an epsilon-greedy strategy is employed. At every step, there is a random chance that a random action will be performed, instead of taking the argmax of the network's output. This will allow the network to observe new states and transitions to better learn from the environment.\n",
    "\n",
    "\n",
    "To stabilise training, several additional measures are used in this notebook.\\\n",
    "&emsp;\\\n",
    "&emsp;&emsp;&emsp;**1. Soft Updating Target network with Main Networks**\\\n",
    "&emsp;&emsp;&emsp;Soft update requires the use of 2 networks, a target network and a main network. The main network will be constantly updated every step taken, while the target \\\n",
    "&emsp;&emsp;&emsp;network will be soft updated by the main network every 5 steps. This delayed and partial update helps the target network reach its final parameters gradually and \\\n",
    "&emsp;&emsp;&emsp;achieve more stable training. \\\n",
    "&emsp;\\\n",
    "&emsp;&emsp;&emsp;**2. Experience Replay**\\\n",
    "&emsp;&emsp;&emsp;Through the addition of a replay buffer, state transitions from previous episodes can be used to train the current network. This random sampling provides the network \\\n",
    "&emsp;&emsp;&emsp;access to state transitions achieved in prior episodes. As such, the effect on estimated Q-values by a significant change to the Q Network is reduced because transitions \\\n",
    "&emsp;&emsp;&emsp;from previous networks are still being used to train the current network, and thus achieves more stable training.\\\n",
    "&emsp;\\\n",
    "&emsp;&emsp;&emsp;**3. Epsilon Decay**\\\n",
    "&emsp;&emsp;&emsp;While the epsilon-greedy approach increases exploration, a constant epsilon will not be useful to the network. Too high of an epsilon will result in the agent making \\\n",
    "&emsp;&emsp;&emsp;random moves every step, while a low epsilon will be significant in aiding the network in learning. To solve this problem, epsilon will decay over episodes, starting from \\\n",
    "&emsp;&emsp;&emsp;1 and decaying by 1.5% every episode to a minimum of 0.005. Epsilon decay will allow training to stabilise as the network learns more about its environment and is \\\n",
    "&emsp;&emsp;&emsp;able to decently estimate Q-values of its state-action pair. \\\n",
    "&emsp;\\\n",
    "Together, the deep neural architecture, target network updates, experience replay, and epsilon decay make the Q Network a Deep Q Network (DQN), enabling it to generalize across continuous state spaces and learn in a stable, efficient manner.\\\n",
    "More on DQN: https://arxiv.org/abs/1312.5602"
   ]
  },
  {
   "cell_type": "code",
   "execution_count": 5,
   "metadata": {},
   "outputs": [],
   "source": [
    "class QNetwork(nn.Module):\n",
    "    def __init__(self, state_dim=4, action_dim=2, hidden_dim=24):\n",
    "        super(QNetwork, self).__init__()\n",
    "        self.fc1 = nn.Linear(state_dim, hidden_dim)\n",
    "        self.fc2 = nn.Linear(hidden_dim, hidden_dim)\n",
    "        self.out = nn.Linear(hidden_dim, action_dim)\n",
    "        \n",
    "        # Apply custom weight initialization\n",
    "        self.init_weights()\n",
    "\n",
    "    def init_weights(self):\n",
    "        # He Initialization for hidden layers\n",
    "        nn.init.kaiming_normal_(self.fc1.weight, nonlinearity='relu')\n",
    "        nn.init.kaiming_normal_(self.fc2.weight, nonlinearity='relu')\n",
    "        \n",
    "        # Small uniform initialization for the output layer to prevent overestimation bias\n",
    "        nn.init.uniform_(self.out.weight, -3e-3, 3e-3)\n",
    "\n",
    "        # Biases to zero for stability\n",
    "        nn.init.zeros_(self.fc1.bias)\n",
    "        nn.init.zeros_(self.fc2.bias)\n",
    "        nn.init.zeros_(self.out.bias)\n",
    "\n",
    "    def forward(self, state):\n",
    "        x = F.relu(self.fc1(state))\n",
    "        x = F.relu(self.fc2(x))\n",
    "        q_values = self.out(x)\n",
    "        return q_values\n",
    "\n",
    "def soft_update(target, source, tau):\n",
    "    for target_param, source_param in zip(target.parameters(), source.parameters()):\n",
    "        target_param.data.copy_(tau * source_param.data + (1.0 - tau) * target_param.data)\n",
    "\n",
    "\n",
    "# ---------------------------------------------------------------------------------------------------------------\n",
    "class ReplayBuffer:\n",
    "    def __init__(self, max_size, state_dim, action_dim):\n",
    "        self.buffer = deque(maxlen=max_size)\n",
    "    \n",
    "    def add(self, state, action, reward, next_state, terminated):\n",
    "        self.buffer.append((state, action, reward, next_state, terminated))\n",
    "    \n",
    "    def sample(self, batch_size):\n",
    "        batch = random.sample(self.buffer, batch_size)\n",
    "        states, actions, rewards, next_states, terminateds = map(np.array, zip(*batch))\n",
    "        return states, actions, rewards, next_states, terminateds\n",
    "    \n",
    "    def size(self):\n",
    "        return len(self.buffer)"
   ]
  },
  {
   "cell_type": "raw",
   "metadata": {},
   "source": [
    "Pseudocode from Playing Atari with Deep Reinforcement Learning (Minh et. al, 2015) with modifications\n",
    "\n",
    "Deep Q-learning with Experience Replay and Target Network\n",
    "    Initialize replay memory D to capacity N\n",
    "    Initialize online Q-network Q with random weights θ\n",
    "    Initialize target Q-network Q_target with weights θ⁻ = θ\n",
    "\n",
    "    Initialize reward list to store rewards of each episode\n",
    "\n",
    "    For episode = 1, M do\n",
    "        Initialise sequence s_1 = {x_1} and preprocessed φ_1 = φ(s_1)\n",
    "        For t = 1, T do\n",
    "            With probability ε select a random action a_t\n",
    "            otherwise select a_t = argmax_a Q(φ(s_t), a; θ)  # Use online network\n",
    "\n",
    "            Execute action a_t in emulator and observe reward r_t and image x_{t+1}\n",
    "            Set s_{t+1} = s_t, a_t, x_{t+1} and preprocess φ_{t+1} = φ(s_{t+1})\n",
    "            Store transition (φ_t, a_t, r_t, φ_{t+1}, done) in D\n",
    "            \n",
    "            Sample random minibatch of transitions (φj, a_j, r_j, φj+1, done) from D\n",
    "            \n",
    "            For each transition in minibatch:\n",
    "                if done:\n",
    "                    y_j = r_j\n",
    "                else:\n",
    "                    y_j = r_j + γ * max_{a'} Q_target(φj+1, a'; θ⁻)  # Critical change: θ⁻ instead of θ\n",
    "            end for\n",
    "            \n",
    "            Perform gradient descent on (y_j − Q(φj, a_j; θ))²\n",
    "            \n",
    "            If t % 5 == 0:\n",
    "                For each parameter pair (θ, θ⁻):\n",
    "                    θ⁻ ← τ * θ + (1 - τ) * θ⁻  # Blend θ into θ⁻\n",
    "            \n",
    "        end for\n",
    "\n",
    "        If last 30 episodes average more than reward of 450:\n",
    "            break\n",
    "    end for"
   ]
  },
  {
   "cell_type": "code",
   "execution_count": 6,
   "metadata": {},
   "outputs": [],
   "source": [
    "def train_agent(\n",
    "    gamma=0.98,\n",
    "    epsilon_start=1.0,\n",
    "    epsilon_min=0.01,\n",
    "    epsilon_decay=0.985,\n",
    "    tau=0.005,\n",
    "    max_episodes=500,\n",
    "    max_steps=500,\n",
    "    batch_size=64,\n",
    "    replay_buffer_size=1000000,\n",
    "    lr=1e-3,  \n",
    "):\n",
    "    \"\"\"Train a DQN agent on CartPole-v1 with the given hyperparameters.\n",
    "       Returns the average reward over all training episodes.\"\"\"\n",
    "    \n",
    "    device = torch.device(\"cuda\" if torch.cuda.is_available() else \"cpu\")\n",
    "    \n",
    "    # Create the environment\n",
    "    env = gym.make(\"CartPole-v1\")\n",
    "    \n",
    "    # Initialize replay buffer\n",
    "    replay_buffer = ReplayBuffer(max_size=replay_buffer_size, state_dim=4, action_dim=1)\n",
    "    \n",
    "    # Create Q-networks\n",
    "    QNet = QNetwork().to(device)\n",
    "    targetQNet = QNetwork().to(device)\n",
    "    targetQNet.load_state_dict(QNet.state_dict())  # Initialize target with same weights\n",
    "    \n",
    "    # Optimizer\n",
    "    QNet_optimizer = optim.Adam(QNet.parameters(), lr=lr)\n",
    "    \n",
    "    # Track rewards\n",
    "    rewards_list = []\n",
    "\n",
    "    \n",
    "    for episode in tqdm(range(max_episodes), desc=\"Episodes\"):\n",
    "        state, info = env.reset()\n",
    "        done = False       \n",
    "        cumulative_reward = 0\n",
    "\n",
    "        epsilon = max(epsilon_start * (epsilon_decay ** episode), epsilon_min)\n",
    "        #lr = lr_start * (lr_decay ** episode)\n",
    "        \n",
    "        for step in range(max_steps):\n",
    "            # Epsilon-greedy action selection\n",
    "            if np.random.rand() < epsilon:\n",
    "                action = np.random.randint(0, 2)\n",
    "            else:\n",
    "                state_tensor = torch.from_numpy(state).float().unsqueeze(0).to(device)\n",
    "                action = torch.argmax(QNet(state_tensor)).item()\n",
    "            \n",
    "            observation, reward, terminated, truncated, info = env.step(action)\n",
    "            \n",
    "            # Store transition in replay buffer\n",
    "            replay_buffer.add(state, action, reward, observation, terminated)\n",
    "            \n",
    "            # Update Q-network if enough samples\n",
    "            if replay_buffer.size() > batch_size:\n",
    "                states, actions, rewards, next_states, dones = replay_buffer.sample(batch_size)\n",
    "                \n",
    "                states_tensor = torch.tensor(states, dtype=torch.float32).to(device)\n",
    "                actions_tensor = torch.tensor(actions, dtype=torch.long).unsqueeze(1).to(device)\n",
    "                rewards_tensor = torch.tensor(rewards, dtype=torch.float32).unsqueeze(1).to(device)\n",
    "                next_states_tensor = torch.tensor(next_states, dtype=torch.float32).to(device)\n",
    "                dones_tensor = torch.tensor(dones, dtype=torch.float32).unsqueeze(1).to(device)\n",
    "                \n",
    "                # Current Q\n",
    "                current_q_values = QNet(states_tensor).gather(1, actions_tensor)\n",
    "                \n",
    "                # Target Q\n",
    "                with torch.no_grad():\n",
    "                    next_q_values = targetQNet(next_states_tensor)\n",
    "                    max_next_q_values = next_q_values.max(1)[0].unsqueeze(1)\n",
    "                    target_q_values = rewards_tensor + gamma * (1 - dones_tensor) * max_next_q_values\n",
    "                \n",
    "                loss = torch.mean((current_q_values - target_q_values) ** 2)\n",
    "                \n",
    "                QNet_optimizer.zero_grad()\n",
    "                loss.backward()\n",
    "                QNet_optimizer.step()\n",
    "\n",
    "            if step % 5 == 0:\n",
    "                soft_update(targetQNet, QNet, tau)\n",
    "            \n",
    "            # Update state\n",
    "            state = observation\n",
    "            cumulative_reward += reward\n",
    "            \n",
    "\n",
    "            \n",
    "            if terminated or truncated:\n",
    "                rewards_list.append(cumulative_reward)\n",
    "                break\n",
    "\n",
    "        if len(rewards_list) > 100 and np.mean(rewards_list[-30:]) > 450:\n",
    "            print(episode)\n",
    "            break\n",
    "    \n",
    "    env.close()\n",
    "    # Return average reward over all episodes\n",
    "    torch.save(QNet.state_dict(), \"model.pth\")\n",
    "    return targetQNet, rewards_list"
   ]
  },
  {
   "cell_type": "code",
   "execution_count": 7,
   "metadata": {},
   "outputs": [],
   "source": [
    "#import optuna\n",
    "\n",
    "#def objective(trial):\n",
    "#    # Suggest values for hyperparameters\n",
    "#    gamma = trial.suggest_float(\"gamma\", 0.9, 0.99)\n",
    "#    epsilon_decay = trial.suggest_float(\"epsilon_decay\", 0.95, 0.999)\n",
    "#    tau = trial.suggest_categorical(\"tau\", [0.001, 0.005, 0.01])\n",
    "#    lr = trial.suggest_categorical(\"lr\", [1e-3, 3e-4, 1e-4])\n",
    "    \n",
    "#    # Train agent with these hyperparameters\n",
    "#    rewards_list = train_agent(gamma=gamma, epsilon_decay=epsilon_decay, tau=tau, lr = lr)\n",
    "\n",
    "#    last_50_avg = np.mean(rewards_list[-100:])\n",
    "    \n",
    "#    return last_50_avg\n",
    "\n",
    "#study = optuna.create_study(direction=\"maximize\")\n",
    "#study.optimize(objective, n_trials=50)\n",
    "\n",
    "#print(\"Best hyperparameters:\", study.best_params)\n",
    "#print(\"Best score:\", study.best_value)\n",
    "\n",
    "# Optuna documention: https://optuna.readthedocs.io/en/stable/reference/index.html\n",
    "# Hyperparameter not included in final code because it takes too long to run"
   ]
  },
  {
   "cell_type": "code",
   "execution_count": 8,
   "metadata": {},
   "outputs": [
    {
     "name": "stderr",
     "output_type": "stream",
     "text": [
      "Episodes:  25%|█████████████████▏                                                   | 249/1000 [00:33<01:39,  7.54it/s]"
     ]
    },
    {
     "name": "stdout",
     "output_type": "stream",
     "text": [
      "249\n",
      "Training Complete!\n"
     ]
    },
    {
     "name": "stderr",
     "output_type": "stream",
     "text": [
      "\n"
     ]
    }
   ],
   "source": [
    "# Hyperparameters\n",
    "max_episodes = 1000\n",
    "max_steps = 500\n",
    "gamma = 0.98\n",
    "epsilon_start = 1.0\n",
    "epsilon_min = 0\n",
    "epsilon_decay = 0.985\n",
    "batch_size = 64\n",
    "target_update_freq = 5\n",
    "tau = 0.005\n",
    "replay_buffer_size = 1000000\n",
    "lr = 1e-3\n",
    "#lr_start = 1e-3\n",
    "#lr_decay = 0.995\n",
    "\n",
    "device = torch.device(\"cuda\" if torch.cuda.is_available() else \"cpu\")\n",
    "\n",
    "# ---------------------------------------------------------------------------------------------------------------\n",
    "\n",
    "targetQNet, rewards_list = train_agent(\n",
    "    gamma=gamma,\n",
    "    epsilon_decay=epsilon_decay,\n",
    "    tau=tau,\n",
    "    max_episodes=max_episodes,\n",
    "    max_steps=max_steps,\n",
    "    batch_size=batch_size,\n",
    "    replay_buffer_size=replay_buffer_size,\n",
    "    lr=lr,\n",
    ")\n",
    "\n",
    "print(\"Training Complete!\")"
   ]
  },
  {
   "cell_type": "code",
   "execution_count": 9,
   "metadata": {},
   "outputs": [
    {
     "data": {
      "image/png": "[encoded data removed]",
      "text/plain": [
       "<Figure size 640x480 with 1 Axes>"
      ]
     },
     "metadata": {},
     "output_type": "display_data"
    },
    {
     "data": {
      "image/png": "[encoded data removed]",
      "text/plain": [
       "<Figure size 640x480 with 1 Axes>"
      ]
     },
     "metadata": {},
     "output_type": "display_data"
    }
   ],
   "source": [
    "window_size = 1\n",
    "moving_avg = np.convolve(rewards_list, np.ones(window_size)/window_size, mode='valid')\n",
    "\n",
    "plt.plot(moving_avg)\n",
    "plt.title('Cumulative Reward per Episode')\n",
    "plt.xlabel('Episode')\n",
    "plt.ylabel('Reward')\n",
    "plt.show()\n",
    "\n",
    "window_size = 20\n",
    "moving_avg = np.convolve(rewards_list, np.ones(window_size)/window_size, mode='valid')\n",
    "\n",
    "plt.plot(moving_avg)\n",
    "plt.title('Moving Average of Cumulative Reward of 20 Episodes')\n",
    "plt.xlabel('Episode')\n",
    "plt.ylabel('Moving Average Reward')\n",
    "plt.show()"
   ]
  },
  {
   "cell_type": "code",
   "execution_count": 10,
   "metadata": {},
   "outputs": [
    {
     "name": "stdout",
     "output_type": "stream",
     "text": [
      "Observation: [-0.00029594 -0.00044646 -0.04211865 -0.02158432]\n",
      "Chosen action: 0\n"
     ]
    }
   ],
   "source": [
    "env = gym.make(\"CartPole-v1\")\n",
    "observation, info = env.reset()\n",
    "state_tensor = torch.from_numpy(observation).float().unsqueeze(0).to(device)\n",
    "action = torch.argmax(targetQNet(state_tensor)).item()\n",
    "print(\"Observation:\", observation)\n",
    "print(\"Chosen action:\", action)"
   ]
  },
  {
   "cell_type": "markdown",
   "metadata": {
    "id": "-XtIQ0Rti1gm"
   },
   "source": [
    "## Task 2: Demonstrate the effectiveness of the RL agent"
   ]
  },
  {
   "cell_type": "markdown",
   "metadata": {
    "id": "djBEShf0kGI4"
   },
   "source": [
    "For this task, use the agent developed in Task 1 to play the game for 100 episodes (refer to tutorial for how to play a round), record the cumulative reward for each round, and plot the reward for each round. A sample plotting code is given below. Note that you must include code to play for 100 episodes and use the code to obtain round_results for plotting. DO NOT record the round results in advance and paste the results to the notebook."
   ]
  },
  {
   "cell_type": "code",
   "execution_count": 11,
   "metadata": {},
   "outputs": [
    {
     "data": {
      "text/plain": [
       "QNetwork(\n",
       "  (fc1): Linear(in_features=4, out_features=24, bias=True)\n",
       "  (fc2): Linear(in_features=24, out_features=24, bias=True)\n",
       "  (out): Linear(in_features=24, out_features=2, bias=True)\n",
       ")"
      ]
     },
     "execution_count": 11,
     "metadata": {},
     "output_type": "execute_result"
    }
   ],
   "source": [
    "device = torch.device(\"cuda\" if torch.cuda.is_available() else \"cpu\")\n",
    "model = QNetwork().to(device)  # initialize your model\n",
    "model.load_state_dict(torch.load(\"model.pth\"))\n",
    "model.eval()"
   ]
  },
  {
   "cell_type": "code",
   "execution_count": 17,
   "metadata": {},
   "outputs": [
    {
     "name": "stderr",
     "output_type": "stream",
     "text": [
      "Evaluating Episodes: 100%|███████████████████████████████████████████████████████████| 100/100 [00:03<00:00, 31.57it/s]\n"
     ]
    }
   ],
   "source": [
    "env = gym.make(\"CartPole-v1\")\n",
    "\n",
    "num_eval_episodes = 100\n",
    "eval_rewards = np.array([])\n",
    "\n",
    "# Run evaluation episodes\n",
    "for episode in tqdm(range(num_eval_episodes), desc=\"Evaluating Episodes\"):\n",
    "    # Reset environment. For Gymnasium, this might be: state, _ = env.reset()\n",
    "    state = env.reset()\n",
    "    episode_reward = 0\n",
    "    done = False\n",
    "    state = state[0]\n",
    "\n",
    "    while not done:\n",
    "        state_tensor = torch.from_numpy(state).float().unsqueeze(0).to(device)\n",
    "        action = torch.argmax(model(state_tensor)).item()\n",
    "        state, reward, terminated, truncated, info = env.step(action)\n",
    "        episode_reward += reward\n",
    "        done = terminated or truncated\n",
    "\n",
    "    eval_rewards = np.append(eval_rewards, episode_reward)\n",
    "env.close()"
   ]
  },
  {
   "cell_type": "code",
   "execution_count": 18,
   "metadata": {
    "colab": {
     "base_uri": "https://localhost:8080/",
     "height": 295
    },
    "id": "RZrCKywQi6CE",
    "outputId": "e304ecc5-14b6-4cf1-831b-dcb42eb46351"
   },
   "outputs": [
    {
     "data": {
      "image/png": "[encoded data removed]",
      "text/plain": [
       "<Figure size 640x480 with 1 Axes>"
      ]
     },
     "metadata": {},
     "output_type": "display_data"
    }
   ],
   "source": [
    "plt.plot(eval_rewards)\n",
    "plt.title('Cumulative reward for each episode')\n",
    "plt.ylabel('Cumulative reward')\n",
    "plt.xlabel('episode')\n",
    "plt.show()"
   ]
  },
  {
   "cell_type": "markdown",
   "metadata": {
    "id": "XndSYH7wlvn7"
   },
   "source": [
    "Print the average reward over the 100 episodes."
   ]
  },
  {
   "cell_type": "code",
   "execution_count": 20,
   "metadata": {
    "colab": {
     "base_uri": "https://localhost:8080/"
    },
    "id": "pOiOp9OYlo5Y",
    "outputId": "7a02ba7b-ff17-41f2-aa7f-eb50d49a83fd"
   },
   "outputs": [
    {
     "name": "stdout",
     "output_type": "stream",
     "text": [
      "Average cumulative reward: 500.0\n",
      "Is my agent good enough? True\n"
     ]
    }
   ],
   "source": [
    "print(\"Average cumulative reward:\", eval_rewards.mean())\n",
    "print(\"Is my agent good enough?\", eval_rewards.mean() > 195)"
   ]
  },
  {
   "cell_type": "markdown",
   "metadata": {
    "id": "Yg0DCT38lFA6"
   },
   "source": [
    "## Task 3: Render one episode played by the agent"
   ]
  },
  {
   "cell_type": "markdown",
   "metadata": {
    "id": "vx1awMr9lc_w"
   },
   "source": [
    "Plug your agent to the code below to obtain rendered result."
   ]
  },
  {
   "cell_type": "code",
   "execution_count": 23,
   "metadata": {
    "colab": {
     "base_uri": "https://localhost:8080/",
     "height": 421
    },
    "id": "LYyavfbIa47D",
    "outputId": "10c2f1e7-f3b9-4975-ed25-7c380966a56c"
   },
   "outputs": [
    {
     "data": {
      "text/html": [
       "\n",
       "    <video width=\"640\" height=\"480\" controls>\n",
       "        <source src=\"data:video/mp4;base64,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\" type=\"video/mp4\">\n",
       "    </video>\n",
       "    "
      ],
      "text/plain": [
       "<IPython.core.display.HTML object>"
      ]
     },
     "execution_count": 23,
     "metadata": {},
     "output_type": "execute_result"
    }
   ],
   "source": [
    "device = torch.device(\"cuda\" if torch.cuda.is_available() else \"cpu\")\n",
    "\n",
    "env = RecordVideo(\n",
    "    gym.make(\"CartPole-v1\", render_mode=\"rgb_array\"),\n",
    "    video_folder=\"./video\",\n",
    "    episode_trigger=lambda episode_id: True  # Record every episode.\n",
    ")\n",
    "\n",
    "state, info = env.reset()\n",
    "done = False\n",
    "\n",
    "model = QNetwork().to(device)  # initialize your model\n",
    "model.load_state_dict(torch.load(\"model.pth\"))\n",
    "model.eval()\n",
    "\n",
    "while not done:\n",
    "    # Capture the current frame (an RGB image) from the environment.\n",
    "    #frame = env.render()  # Returns an np.ndarray of shape (H, W, 3)\n",
    "    \n",
    "    # Live display: update the current cell with the frame.\n",
    "    #plt.imshow(frame)\n",
    "    #plt.axis(\"off\")\n",
    "    #clear_output(wait=True)\n",
    "    #ipythondisplay.display(plt.gcf())\n",
    "    \n",
    "    # Prepare the state tensor (make sure to add a batch dimension and send to device)\n",
    "    state_tensor = torch.from_numpy(state).float().unsqueeze(0).to(device)\n",
    "    action = torch.argmax(model(state_tensor)).item()  # Greedy action selection\n",
    "    state, reward, terminated, truncated, info = env.step(action)\n",
    "    done = terminated or truncated\n",
    "\n",
    "env.close()\n",
    "\n",
    "\n",
    "\n",
    "# Display the video in the notebook.\n",
    "show_video()\n"
   ]
  }
 ],
 "metadata": {
  "colab": {
   "authorship_tag": "ABX9TyNczA+lJQOKjOo4XtzYjWQc",
   "include_colab_link": true,
   "provenance": []
  },
  "kernelspec": {
   "display_name": "Python 3.12 (py312env)",
   "language": "python",
   "name": "py312env"
  },
  "language_info": {
   "codemirror_mode": {
    "name": "ipython",
    "version": 3
   },
   "file_extension": ".py",
   "mimetype": "text/x-python",
   "name": "python",
   "nbconvert_exporter": "python",
   "pygments_lexer": "ipython3",
   "version": "3.12.9"
  }
 },
 "nbformat": 4,
 "nbformat_minor": 4
}
